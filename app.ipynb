{
 "cells": [
  {
   "cell_type": "markdown",
   "metadata": {},
   "source": [
    "CASE STUDY - Insurance claim prediction model"
   ]
  },
  {
   "cell_type": "code",
   "execution_count": 14,
   "metadata": {},
   "outputs": [],
   "source": [
    "import pandas as pd\n",
    "import numpy as np\n",
    "from sklearn.model_selection import train_test_split\n",
    "from sklearn.preprocessing import StandardScaler, LabelEncoder\n",
    "from sklearn.ensemble import RandomForestClassifier\n",
    "from sklearn.metrics import classification_report, confusion_matrix\n",
    "import matplotlib.pyplot as plt\n",
    "import seaborn as sns"
   ]
  },
  {
   "cell_type": "markdown",
   "metadata": {},
   "source": [
    "DATA PREPROCESSING"
   ]
  },
  {
   "cell_type": "code",
   "execution_count": 15,
   "metadata": {},
   "outputs": [],
   "source": [
    "def data_preprocessing(data):\n",
    "    \"\"\"\n",
    "    Peforms preprocessing on the insurance claims data\n",
    "    \"\"\"\n",
    "\n",
    "    # Check for null or missing values\n",
    "    null_value_check = data.isna().sum()\n",
    "    print(\"Null value check : \\n\",null_value_check)\n",
    "\n",
    "    # Using Label encoder to convert categorical variables to numerical.\n",
    "    # The categorical features present in the dataset are 'Gender', 'Vehicle_Age' and 'Previous_Vehicle_Damage'\n",
    "\n",
    "    encoder = LabelEncoder()\n",
    "    columns_to_encode = ['Gender', 'Vehicle_Age', 'Previous_Vehicle_Damage']\n",
    "    \n",
    "    for column in columns_to_encode:\n",
    "        data[column] = encoder.fit_transform(data[column])\n",
    "\n",
    "    # Create feature matrix X and target y\n",
    "    features = ['Gender', 'Age', 'Driving_License', 'Region_Code','Previously_Insured', 'Vehicle_Age', 'Previous_Vehicle_Damage','Annual_Premium', 'Policy_Sales_Channel']\n",
    "    \n",
    "    # X consist of all feature columns \n",
    "    X = data[features]\n",
    "    \n",
    "    # y consists of response which has binary value 0 and 1\n",
    "    y = data['Response']\n",
    "    \n",
    "    return X, y, features\n"
   ]
  },
  {
   "cell_type": "code",
   "execution_count": 16,
   "metadata": {},
   "outputs": [
    {
     "name": "stdout",
     "output_type": "stream",
     "text": [
      "Size of dataset: 382154\n",
      "Null value check : \n",
      " Claim ID                   0\n",
      "Gender                     0\n",
      "Age                        0\n",
      "Driving_License            0\n",
      "Region_Code                0\n",
      "Previously_Insured         0\n",
      "Vehicle_Age                0\n",
      "Previous_Vehicle_Damage    0\n",
      "Annual_Premium             0\n",
      "Policy_Sales_Channel       0\n",
      "Response                   0\n",
      "dtype: int64\n"
     ]
    }
   ],
   "source": [
    "data = pd.read_csv(\"claims_dummy_data.csv\")\n",
    "print('Size of dataset:',len(data))\n",
    "\n",
    "# Call the data_preprocessing function\n",
    "X, y, features = data_preprocessing(data)"
   ]
  },
  {
   "cell_type": "code",
   "execution_count": 17,
   "metadata": {},
   "outputs": [],
   "source": [
    "# Create Scaler object for scaling training and testing input features \n",
    "scaler = StandardScaler()"
   ]
  },
  {
   "cell_type": "markdown",
   "metadata": {},
   "source": [
    "MODEL TRAINING"
   ]
  },
  {
   "cell_type": "code",
   "execution_count": 18,
   "metadata": {},
   "outputs": [
    {
     "name": "stdout",
     "output_type": "stream",
     "text": [
      "<bound method BaseEstimator.get_params of RandomForestClassifier(class_weight='balanced', n_estimators=50,\n",
      "                       random_state=42)>\n"
     ]
    }
   ],
   "source": [
    "def train_model(X, y):\n",
    "    \"\"\"\n",
    "    Train the Random Forest model\n",
    "    \"\"\"\n",
    "    # Split the data 80-20 for training and testing\n",
    "    X_train, X_test, y_train, y_test = train_test_split(X, y, test_size=0.2, random_state=42)\n",
    "    \n",
    "    # Scale the features\n",
    "    X_train_scaled = scaler.fit_transform(X_train)\n",
    "    X_test_scaled = scaler.transform(X_test)\n",
    "    \n",
    "    # Train Random Forest model\n",
    "    model = RandomForestClassifier(n_estimators=50, random_state=42, class_weight='balanced')\n",
    "    print(model.get_params)\n",
    "    model.fit(X_train_scaled, y_train)\n",
    "    \n",
    "    return model, X_train_scaled, X_test_scaled, y_train, y_test, scaler\n",
    "\n",
    "# Call the train model function\n",
    "model, X_train_scaled, X_test_scaled, y_train, y_test, scaler = train_model(X, y)"
   ]
  },
  {
   "cell_type": "markdown",
   "metadata": {},
   "source": [
    "MODEL EVALUATION"
   ]
  },
  {
   "cell_type": "code",
   "execution_count": 19,
   "metadata": {},
   "outputs": [
    {
     "name": "stdout",
     "output_type": "stream",
     "text": [
      "Classification Report:\n",
      "\n",
      "              precision    recall  f1-score   support\n",
      "\n",
      "           0       0.89      0.91      0.90     63789\n",
      "           1       0.48      0.43      0.45     12642\n",
      "\n",
      "    accuracy                           0.83     76431\n",
      "   macro avg       0.68      0.67      0.68     76431\n",
      "weighted avg       0.82      0.83      0.82     76431\n",
      "\n",
      "Confusion Matrix Explanation:\n",
      "\n",
      "    True Negatives (TN): 57758 - Correctly predicted no claim\n",
      "    False Positives (FP): 6031 - Incorrectly predicted claim\n",
      "    False Negatives (FN): 7179 - Missed actual claims\n",
      "    True Positives (TP): 5463 - Correctly predicted claims\n",
      "    \n"
     ]
    },
    {
     "data": {
      "image/png": "[encoded data removed]",
      "text/plain": [
       "<Figure size 1000x500 with 2 Axes>"
      ]
     },
     "metadata": {},
     "output_type": "display_data"
    }
   ],
   "source": [
    "def evaluate_model(model, X_test_scaled, y_test):\n",
    "    \"\"\"\n",
    "    Evaluate the model and print performance metrics\n",
    "    \"\"\"\n",
    "    # Make predictions on test data\n",
    "    y_pred = model.predict(X_test_scaled)\n",
    "    \n",
    "    # Print classification report\n",
    "    print(\"Classification Report:\\n\")\n",
    "    print(classification_report(y_test, y_pred))\n",
    "    \n",
    "    # Generate confusion matrix result\n",
    "    matrix = confusion_matrix(y_test, y_pred)\n",
    "    tn, fp, fn, tp = matrix.ravel()\n",
    "    print(\"Confusion Matrix Explanation:\")\n",
    "    print(f\"\"\"\n",
    "    True Negatives (TN): {tn} - Correctly predicted no claim\n",
    "    False Positives (FP): {fp} - Incorrectly predicted claim\n",
    "    False Negatives (FN): {fn} - Missed actual claims\n",
    "    True Positives (TP): {tp} - Correctly predicted claims\n",
    "    \"\"\")\n",
    "    \n",
    "    # Generate confusion matrix visualization \n",
    "    plt.figure(figsize=(10, 5))\n",
    "    sns.heatmap(matrix, annot=True, fmt='d', cmap='GnBu')\n",
    "    plt.title('Confusion Matrix')\n",
    "    plt.ylabel('True Label')\n",
    "    plt.xlabel('Predicted Label')\n",
    "    plt.show()\n",
    "\n",
    "\n",
    "# Evaluate the model\n",
    "evaluate_model(model, X_test_scaled, y_test)"
   ]
  },
  {
   "cell_type": "markdown",
   "metadata": {},
   "source": [
    "FEATURE IMPORTANCE"
   ]
  },
  {
   "cell_type": "code",
   "execution_count": 20,
   "metadata": {},
   "outputs": [
    {
     "data": {
      "image/png": "[encoded data removed]",
      "text/plain": [
       "<Figure size 1000x600 with 1 Axes>"
      ]
     },
     "metadata": {},
     "output_type": "display_data"
    },
    {
     "name": "stdout",
     "output_type": "stream",
     "text": [
      "['Gender', 'Age', 'Driving_License', 'Region_Code', 'Previously_Insured', 'Vehicle_Age', 'Previous_Vehicle_Damage', 'Annual_Premium', 'Policy_Sales_Channel']\n"
     ]
    }
   ],
   "source": [
    "def analyze_feature_importance(model, features):\n",
    "    \"\"\"\n",
    "    Analyze and plot feature importance\n",
    "    \"\"\"\n",
    "    # Get feature importance also known as Gini importance to understand which feature influences the model\n",
    "    importance = model.feature_importances_\n",
    "    \n",
    "    # Create DataFrame of features and their importance\n",
    "    feature_importance = pd.DataFrame({\n",
    "        'feature': features,\n",
    "        'importance': importance\n",
    "    })\n",
    "    \n",
    "    # Sort by importance from least to most important feature\n",
    "    feature_importance = feature_importance.sort_values('importance')\n",
    "    \n",
    "    # Plot bar\n",
    "    plt.figure(figsize=(10, 6))\n",
    "    sns.barplot(x='importance', y='feature', data=feature_importance)\n",
    "    plt.title('Feature Importance')\n",
    "    plt.show()\n",
    "    \n",
    "    return feature_importance\n",
    "\n",
    "# Analyze feature importance\n",
    "feature_importance = analyze_feature_importance(model, features)\n",
    "print(features)"
   ]
  },
  {
   "cell_type": "code",
   "execution_count": 21,
   "metadata": {},
   "outputs": [
    {
     "name": "stdout",
     "output_type": "stream",
     "text": [
      "ROC-AUC: 0.86\n"
     ]
    },
    {
     "data": {
      "image/png": "[encoded data removed]",
      "text/plain": [
       "<Figure size 640x480 with 1 Axes>"
      ]
     },
     "metadata": {},
     "output_type": "display_data"
    }
   ],
   "source": [
    "from sklearn.metrics import roc_auc_score\n",
    "import matplotlib.pyplot as plt\n",
    "from sklearn.metrics import roc_curve\n",
    "\n",
    "\"\"\"\n",
    "AUC - ROC curve is a performance measurement for the classification problems at various threshold settings. \n",
    "ROC is a probability curve and AUC represents the degree or measure of separability.\n",
    "\"\"\"\n",
    "\n",
    "y_probs = model.predict_proba(X_test_scaled)[:, 1]  # probabilities for class 1\n",
    "\n",
    "# Calculate ROC-AUC score\n",
    "roc_auc = roc_auc_score(y_test, y_probs)\n",
    "print(f\"ROC-AUC: {roc_auc:.2f}\")\n",
    "\n",
    "# Calculate ROC curve\n",
    "fpr, tpr, thresholds = roc_curve(y_test, y_probs)\n",
    "\n",
    "# Plot the ROC curve\n",
    "plt.plot(fpr, tpr, color='blue', label='ROC curve (AUC = %0.2f)' % roc_auc)\n",
    "plt.plot([0, 1], [0, 1], color='gray', linestyle='--')  # Diagonal line for random classifier\n",
    "plt.xlabel('False Positive Rate')\n",
    "plt.ylabel('True Positive Rate')\n",
    "plt.title('Receiver Operating Characteristic')\n",
    "plt.legend(loc=\"lower right\")\n",
    "plt.show()\n"
   ]
  },
  {
   "cell_type": "code",
   "execution_count": 22,
   "metadata": {},
   "outputs": [
    {
     "name": "stdout",
     "output_type": "stream",
     "text": [
      "High-risk segment claim rate: 0.2358651668708468\n",
      "Low-risk segment claim rate: 0.005809984458291574\n"
     ]
    }
   ],
   "source": [
    "# Segment customers\n",
    "high_risk = X[(X['Previous_Vehicle_Damage'] == 1) & (X['Age'] < 35)]\n",
    "low_risk = X[(X['Previous_Vehicle_Damage'] == 0) & (X['Age'] >= 35)]\n",
    "\n",
    "# Calculate claim rates in each segment\n",
    "high_risk_rate = y[high_risk.index].mean()\n",
    "low_risk_rate = y[low_risk.index].mean()\n",
    "print(f\"High-risk segment claim rate: {high_risk_rate}\")\n",
    "print(f\"Low-risk segment claim rate: {low_risk_rate}\")"
   ]
  },
  {
   "cell_type": "code",
   "execution_count": 23,
   "metadata": {},
   "outputs": [
    {
     "name": "stdout",
     "output_type": "stream",
     "text": [
      "Region_Code\n",
      "28    45.023242\n",
      "8      6.929602\n",
      "41     4.875321\n",
      "46     4.322615\n",
      "29     3.183655\n",
      "3      2.565454\n",
      "11     2.220412\n",
      "35     2.020734\n",
      "15     1.884954\n",
      "30     1.857798\n",
      "33     1.718822\n",
      "18     1.530327\n",
      "36     1.440872\n",
      "45     1.316273\n",
      "47     1.234805\n",
      "39     1.212441\n",
      "50     1.060686\n",
      "14     0.937685\n",
      "7      0.908931\n",
      "38     0.897749\n",
      "6      0.881775\n",
      "13     0.771553\n",
      "37     0.769956\n",
      "24     0.725228\n",
      "23     0.661331\n",
      "48     0.640565\n",
      "4      0.607019\n",
      "12     0.605422\n",
      "21     0.575071\n",
      "2      0.554304\n",
      "19     0.551109\n",
      "10     0.525551\n",
      "32     0.458459\n",
      "43     0.436095\n",
      "9      0.394562\n",
      "27     0.357822\n",
      "17     0.348237\n",
      "20     0.292328\n",
      "26     0.292328\n",
      "5      0.276353\n",
      "40     0.276353\n",
      "31     0.274756\n",
      "0      0.231626\n",
      "34     0.217249\n",
      "16     0.217249\n",
      "49     0.194885\n",
      "1      0.159742\n",
      "25     0.153352\n",
      "22     0.135781\n",
      "42     0.076676\n",
      "52     0.073481\n",
      "51     0.067092\n",
      "44     0.054312\n",
      "Name: Response, dtype: float64\n"
     ]
    }
   ],
   "source": [
    "# Assess which region customers submits more claims \n",
    "\n",
    "# Group by 'region_code' and calculate the sum of claims in each region (assuming 'claim' column is binary: 1 for claim made, 0 for no claim)\n",
    "region_claims = data.groupby('Region_Code')['Response'].sum()\n",
    "\n",
    "# Sort the result to get the region with the most claims\n",
    "region_claims_sorted = region_claims.sort_values(ascending=False)\n",
    "\n",
    "# Calculate the percentage of total claims for each region\n",
    "region_claims_percentage = (region_claims_sorted / region_claims_sorted.sum()) * 100\n",
    "\n",
    "# Display the results\n",
    "print(region_claims_percentage)"
   ]
  },
  {
   "cell_type": "markdown",
   "metadata": {},
   "source": [
    "MODEL PREDICTION"
   ]
  },
  {
   "cell_type": "code",
   "execution_count": 24,
   "metadata": {},
   "outputs": [],
   "source": [
    "def predict(model, scaler, input_data):\n",
    "    \"\"\"\n",
    "    Predict if customer will claim an insurance\n",
    "    \"\"\"\n",
    "    # Scale the input data as the model is trained on scaled feature\n",
    "    input_scaled_data = scaler.transform(input_data)\n",
    "\n",
    "    prediction = model.predict(input_scaled_data)\n",
    "\n",
    "    return prediction\n",
    "\n",
    "def predict_claim_probability(model, scaler, input_data):\n",
    "    \"\"\"\n",
    "    Predict the probability of a claim for new customer data\n",
    "    \"\"\"\n",
    "    # Scale the input data as the model is trained on the scaled feature\n",
    "    input_scaled_data = scaler.transform(input_data)\n",
    "    \n",
    "    # Get probability predictions on data \n",
    "    prediction_probability = model.predict_proba(input_scaled_data)\n",
    "    # print(prediction_probability)\n",
    "    return prediction_probability[:,1]  # Return probability of positive class\n",
    "\n"
   ]
  },
  {
   "cell_type": "code",
   "execution_count": 25,
   "metadata": {},
   "outputs": [
    {
     "name": "stdout",
     "output_type": "stream",
     "text": [
      "Prediction if the customer will claim an insurance: [1]\n",
      "Predicted claim probability for new customer: 70.00%\n"
     ]
    }
   ],
   "source": [
    "# Predict on new customer\n",
    "new_customer = X.iloc[[14]]  \n",
    "\n",
    "# Predicts and provides binary result \n",
    "prediction = predict(model, scaler, new_customer)\n",
    "print(f\"Prediction if the customer will claim an insurance: {prediction}\")\n",
    "\n",
    "# Predicts and provides probability value \n",
    "claim_probability = predict_claim_probability(model, scaler, new_customer)\n",
    "\n",
    "print(f\"Predicted claim probability for new customer: {claim_probability[0]:.2%}\") \n"
   ]
  },
  {
   "cell_type": "markdown",
   "metadata": {},
   "source": [
    "HYPER PARAMETER TUNING"
   ]
  },
  {
   "cell_type": "code",
   "execution_count": 26,
   "metadata": {},
   "outputs": [
    {
     "name": "stdout",
     "output_type": "stream",
     "text": [
      "RandomForestClassifier(max_depth=6, max_leaf_nodes=6, n_estimators=50)\n"
     ]
    }
   ],
   "source": [
    "from sklearn.model_selection import GridSearchCV, RandomizedSearchCV \n",
    "param_grid = { \n",
    "    'n_estimators': [50, 100], \n",
    "    'max_features': ['sqrt', 'log2'], \n",
    "    'max_depth': [6, 9], \n",
    "    'max_leaf_nodes': [6, 9]\n",
    "}\n",
    "\n",
    "grid_search = GridSearchCV(RandomForestClassifier(), \n",
    "                           param_grid=param_grid, n_jobs=-1) \n",
    "grid_search.fit(X_train_scaled, y_train) \n",
    "print(grid_search.best_estimator_)"
   ]
  },
  {
   "cell_type": "code",
   "execution_count": 27,
   "metadata": {},
   "outputs": [
    {
     "name": "stdout",
     "output_type": "stream",
     "text": [
      "              precision    recall  f1-score   support\n",
      "\n",
      "           0       0.71      0.99      0.83     46208\n",
      "           1       0.95      0.40      0.56     30223\n",
      "\n",
      "    accuracy                           0.75     76431\n",
      "   macro avg       0.83      0.69      0.69     76431\n",
      "weighted avg       0.81      0.75      0.72     76431\n",
      "\n"
     ]
    }
   ],
   "source": [
    "model_grid = RandomForestClassifier(max_depth=6, \n",
    "\t\t\t\t\t\t\t\t\tmax_features=\"log2\", \n",
    "\t\t\t\t\t\t\t\t\tmax_leaf_nodes=6, \n",
    "\t\t\t\t\t\t\t\t\tn_estimators=100,\n",
    "                                    class_weight='balanced') \n",
    "model_grid.fit(X_train_scaled, y_train) \n",
    "y_pred_grid = model_grid.predict(X_test_scaled) \n",
    "print(classification_report(y_pred_grid, y_test, zero_division=1)) "
   ]
  },
  {
   "cell_type": "code",
   "execution_count": 28,
   "metadata": {},
   "outputs": [
    {
     "name": "stdout",
     "output_type": "stream",
     "text": [
      "RandomForestClassifier(max_depth=6, max_leaf_nodes=6)\n"
     ]
    }
   ],
   "source": [
    "random_search = RandomizedSearchCV(RandomForestClassifier(), \n",
    "\t\t\t\t\t\t\t\tparam_grid) \n",
    "random_search.fit(X_train_scaled, y_train) \n",
    "print(random_search.best_estimator_) "
   ]
  },
  {
   "cell_type": "code",
   "execution_count": 29,
   "metadata": {},
   "outputs": [
    {
     "name": "stdout",
     "output_type": "stream",
     "text": [
      "              precision    recall  f1-score   support\n",
      "\n",
      "           0       0.71      0.99      0.83     46208\n",
      "           1       0.95      0.40      0.56     30223\n",
      "\n",
      "    accuracy                           0.75     76431\n",
      "   macro avg       0.83      0.69      0.69     76431\n",
      "weighted avg       0.81      0.75      0.72     76431\n",
      "\n"
     ]
    }
   ],
   "source": [
    "model_random = RandomForestClassifier(max_depth=6, \n",
    "\t\t\t\t\t\t\t\t\tmax_features='log2', \n",
    "\t\t\t\t\t\t\t\t\tmax_leaf_nodes=9, \n",
    "\t\t\t\t\t\t\t\t\tn_estimators=50,\n",
    "                                    class_weight='balanced') \n",
    "model_random.fit(X_train_scaled, y_train) \n",
    "y_pred_rand = model_random.predict(X_test_scaled) \n",
    "print(classification_report(y_pred_rand, y_test, zero_division=1)) \n"
   ]
  },
  {
   "cell_type": "code",
   "execution_count": null,
   "metadata": {},
   "outputs": [],
   "source": [
    "\n"
   ]
  }
 ],
 "metadata": {
  "kernelspec": {
   "display_name": "Python 3",
   "language": "python",
   "name": "python3"
  },
  "language_info": {
   "codemirror_mode": {
    "name": "ipython",
    "version": 3
   },
   "file_extension": ".py",
   "mimetype": "text/x-python",
   "name": "python",
   "nbconvert_exporter": "python",
   "pygments_lexer": "ipython3",
   "version": "3.11.1"
  }
 },
 "nbformat": 4,
 "nbformat_minor": 2
}
